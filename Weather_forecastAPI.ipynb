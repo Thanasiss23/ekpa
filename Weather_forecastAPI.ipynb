{
  "nbformat": 4,
  "nbformat_minor": 0,
  "metadata": {
    "colab": {
      "provenance": [],
      "authorship_tag": "ABX9TyM19kXqlyBcxIcikUaDinuZ",
      "include_colab_link": true
    },
    "kernelspec": {
      "name": "python3",
      "display_name": "Python 3"
    },
    "language_info": {
      "name": "python"
    }
  },
  "cells": [
    {
      "cell_type": "markdown",
      "metadata": {
        "id": "view-in-github",
        "colab_type": "text"
      },
      "source": [
        "<a href=\"https://colab.research.google.com/github/Thanasiss23/ekpa/blob/main/Weather_forecastAPI.ipynb\" target=\"_parent\"><img src=\"https://colab.research.google.com/assets/colab-badge.svg\" alt=\"Open In Colab\"/></a>"
      ]
    },
    {
      "cell_type": "code",
      "execution_count": 2,
      "metadata": {
        "colab": {
          "base_uri": "https://localhost:8080/"
        },
        "id": "jCd-Np9ljDuK",
        "outputId": "0515d934-597b-4a67-dc5e-0d9154fbfe2b"
      },
      "outputs": [
        {
          "output_type": "stream",
          "name": "stdout",
          "text": [
            "Requirement already satisfied: requests in /usr/local/lib/python3.11/dist-packages (2.32.3)\n",
            "Requirement already satisfied: charset-normalizer<4,>=2 in /usr/local/lib/python3.11/dist-packages (from requests) (3.4.2)\n",
            "Requirement already satisfied: idna<4,>=2.5 in /usr/local/lib/python3.11/dist-packages (from requests) (3.10)\n",
            "Requirement already satisfied: urllib3<3,>=1.21.1 in /usr/local/lib/python3.11/dist-packages (from requests) (2.5.0)\n",
            "Requirement already satisfied: certifi>=2017.4.17 in /usr/local/lib/python3.11/dist-packages (from requests) (2025.7.14)\n"
          ]
        }
      ],
      "source": [
        "pip install requests\n"
      ]
    },
    {
      "cell_type": "code",
      "source": [
        "import requests\n",
        "\n",
        "def get_weather_emoji(icon_code):\n",
        "    \"\"\"\n",
        "    Μετατρέπει τον κωδικό εικονιδίου του OpenWeatherMap σε emoji.\n",
        "    \"\"\"\n",
        "    # Το λεξικό με τους κωδικούς και τα αντίστοιχα emojis\n",
        "    icon_to_emoji = {\n",
        "        \"01d\": \"☀️\",  # Καθαρός ουρανός (ημέρα)\n",
        "        \"01n\": \"🌙\",  # Καθαρός ουρανός (νύχτα)\n",
        "        \"02d\": \"🌤️\", # Λίγα σύννεφα (ημέρα)\n",
        "        \"02n\": \"☁️\",  # Λίγα σύννεφα (νύχτα)\n",
        "        \"03d\": \"☁️\",  # Διάσπαρτα σύννεφα (ημέρα)\n",
        "        \"03n\": \"☁️\",  # Διάσπαρτα σύννεφα (νύχτα)\n",
        "        \"04d\": \"☁️\",  # Σύννεφα (ημέρα)\n",
        "        \"04n\": \"☁️\",  # Σύννεφα (νύχτα)\n",
        "        \"09d\": \"🌧️\", # Ελαφριά βροχή (ημέρα)\n",
        "        \"09n\": \"🌧️\", # Ελαφριά βροχή (νύχτα)\n",
        "        \"10d\": \"🌦️\", # Βροχή (ημέρα)\n",
        "        \"10n\": \"🌧️\", # Βροχή (νύχτα)\n",
        "        \"11d\": \"⛈️\", # Καταιγίδα (ημέρα)\n",
        "        \"11n\": \"⛈️\", # Καταιγίδα (νύχτα)\n",
        "        \"13d\": \"🌨️\", # Χιόνι (ημέρα)\n",
        "        \"13n\": \"❄️\", # Χιόνι (νύχτα)\n",
        "        \"50d\": \"🌫️\", # Ομίχλη (ημέρα)\n",
        "        \"50n\": \"🌫️\"  # Ομίχλη (νύχτα)\n",
        "    }\n",
        "    return icon_to_emoji.get(icon_code, \"❓\") # Επιστρέφει emoji ή ερωτηματικό αν δεν βρεθεί\n",
        "\n",
        "def get_weather_forecast(city_name, api_key):\n",
        "    \"\"\"\n",
        "    Λαμβάνει την πρόβλεψη καιρού για μια συγκεκριμένη πόλη από το OpenWeatherMap API.\n",
        "    \"\"\"\n",
        "    base_url = \"http://api.openweathermap.org/data/2.5/forecast\"\n",
        "    params = {\n",
        "        \"q\": city_name,\n",
        "        \"appid\": api_key,\n",
        "        \"units\": \"metric\",\n",
        "        \"lang\": \"el\"\n",
        "    }\n",
        "\n",
        "    try:\n",
        "        response = requests.get(base_url, params=params)\n",
        "        response.raise_for_status()\n",
        "\n",
        "        data = response.json()\n",
        "\n",
        "        if data[\"cod\"] == \"404\":\n",
        "            print(f\"Η πόλη '{city_name}' δεν βρέθηκε.\")\n",
        "            return\n",
        "\n",
        "        print(f\"\\nΠρόβλεψη καιρού για την πόλη: {data['city']['name']}\\n\")\n",
        "\n",
        "        forecast_by_day = {}\n",
        "        for item in data[\"list\"]:\n",
        "            date = item[\"dt_txt\"].split(\" \")[0]\n",
        "            if date not in forecast_by_day:\n",
        "                forecast_by_day[date] = {\n",
        "                    \"temp_max\": -100,\n",
        "                    \"temp_min\": 100,\n",
        "                    \"description\": item[\"weather\"][0][\"description\"],\n",
        "                    \"icon\": item[\"weather\"][0][\"icon\"] # Αποθηκεύουμε και τον κωδικό εικονιδίου\n",
        "                }\n",
        "\n",
        "            if item[\"main\"][\"temp_max\"] > forecast_by_day[date][\"temp_max\"]:\n",
        "                forecast_by_day[date][\"temp_max\"] = item[\"main\"][\"temp_max\"]\n",
        "            if item[\"main\"][\"temp_min\"] < forecast_by_day[date][\"temp_min\"]:\n",
        "                forecast_by_day[date][\"temp_min\"] = item[\"main\"][\"temp_min\"]\n",
        "\n",
        "        for date, forecast in forecast_by_day.items():\n",
        "            # Κλήση της νέας συνάρτησης για το emoji\n",
        "            emoji = get_weather_emoji(forecast[\"icon\"])\n",
        "            print(f\"Ημερομηνία: {date}\")\n",
        "            print(f\"  Πρόγνωση: {emoji} {forecast['description'].capitalize()}\")\n",
        "            print(f\"  Μέγιστη Θερμοκρασία: {forecast['temp_max']:.1f}°C\")\n",
        "            print(f\"  Ελάχιστη Θερμοκρασία: {forecast['temp_min']:.1f}°C\")\n",
        "            print(\"-\" * 30)\n",
        "\n",
        "    except requests.exceptions.RequestException as e:\n",
        "        print(f\"Προέκυψε σφάλμα κατά την επικοινωνία με το API: {e}\")\n",
        "    except KeyError:\n",
        "        print(\"Δεν ήταν δυνατή η επεξεργασία των δεδομένων.\")\n",
        "\n",
        "# Το API Key σας\n",
        "API_KEY = \"e678f1305f9e4d79fa082b34b300a746\"\n",
        "\n",
        "if __name__ == \"__main__\":\n",
        "    city = input(\"Πληκτρολόγησε το όνομα μιας πόλης (π.χ. Athens): \")\n",
        "    get_weather_forecast(city, API_KEY)"
      ],
      "metadata": {
        "colab": {
          "base_uri": "https://localhost:8080/"
        },
        "id": "dz72sNraqaOt",
        "outputId": "42753640-0c83-4881-efa4-52b0a7df45cf"
      },
      "execution_count": 15,
      "outputs": [
        {
          "output_type": "stream",
          "name": "stdout",
          "text": [
            "Πληκτρολόγησε το όνομα μιας πόλης (π.χ. Athens): Athens\n",
            "\n",
            "Πρόβλεψη καιρού για την πόλη: Αθήνα\n",
            "\n",
            "Ημερομηνία: 2025-08-04\n",
            "  Πρόγνωση: 🌙 Αίθριος καιρός\n",
            "  Μέγιστη Θερμοκρασία: 28.7°C\n",
            "  Ελάχιστη Θερμοκρασία: 28.0°C\n",
            "------------------------------\n",
            "Ημερομηνία: 2025-08-05\n",
            "  Πρόγνωση: 🌙 Αίθριος καιρός\n",
            "  Μέγιστη Θερμοκρασία: 33.0°C\n",
            "  Ελάχιστη Θερμοκρασία: 25.4°C\n",
            "------------------------------\n",
            "Ημερομηνία: 2025-08-06\n",
            "  Πρόγνωση: 🌙 Αίθριος καιρός\n",
            "  Μέγιστη Θερμοκρασία: 31.6°C\n",
            "  Ελάχιστη Θερμοκρασία: 24.0°C\n",
            "------------------------------\n",
            "Ημερομηνία: 2025-08-07\n",
            "  Πρόγνωση: 🌙 Αίθριος καιρός\n",
            "  Μέγιστη Θερμοκρασία: 32.4°C\n",
            "  Ελάχιστη Θερμοκρασία: 25.8°C\n",
            "------------------------------\n",
            "Ημερομηνία: 2025-08-08\n",
            "  Πρόγνωση: 🌙 Αίθριος καιρός\n",
            "  Μέγιστη Θερμοκρασία: 32.6°C\n",
            "  Ελάχιστη Θερμοκρασία: 26.2°C\n",
            "------------------------------\n",
            "Ημερομηνία: 2025-08-09\n",
            "  Πρόγνωση: 🌙 Αίθριος καιρός\n",
            "  Μέγιστη Θερμοκρασία: 32.5°C\n",
            "  Ελάχιστη Θερμοκρασία: 25.7°C\n",
            "------------------------------\n"
          ]
        }
      ]
    }
  ]
}