{
  "nbformat": 4,
  "nbformat_minor": 0,
  "metadata": {
    "colab": {
      "provenance": [],
      "authorship_tag": "ABX9TyMNo2Y07R0DxN2bWadQQS3F",
      "include_colab_link": true
    },
    "kernelspec": {
      "name": "python3",
      "display_name": "Python 3"
    },
    "language_info": {
      "name": "python"
    }
  },
  "cells": [
    {
      "cell_type": "markdown",
      "metadata": {
        "id": "view-in-github",
        "colab_type": "text"
      },
      "source": [
        "<a href=\"https://colab.research.google.com/github/Thanasiss23/ekpa/blob/main/DarkNet_DetectionAnomaly.ipynb\" target=\"_parent\"><img src=\"https://colab.research.google.com/assets/colab-badge.svg\" alt=\"Open In Colab\"/></a>"
      ]
    },
    {
      "cell_type": "markdown",
      "metadata": {
        "id": "cd6978e7"
      },
      "source": [
        "## Εγκατάσταση και εισαγωγή βιβλιοθηκών\n",
        "\n",
        "### Subtask:\n",
        "Δημιουργία ενός κελιού για την εγκατάσταση και εισαγωγή όλων των απαραίτητων βιβλιοθηκών.\n"
      ]
    },
    {
      "cell_type": "markdown",
      "metadata": {
        "id": "39709605"
      },
      "source": [
        "**Reasoning**:\n",
        "Install the necessary libraries and import them into the notebook environment.\n",
        "\n"
      ]
    },
    {
      "cell_type": "code",
      "metadata": {
        "id": "51a036f4"
      },
      "source": [
        "# -*- coding: utf-8 -*-\n",
        "# DarkNet One-Class Anomaly Detection - Συμβατή έκδοση για Colab\n",
        "\n",
        "# 2. Εισαγωγή βιβθηκών\n",
        "import pandas as pd\n",
        "import numpy as np\n",
        "from sklearn.preprocessing import StandardScaler\n",
        "from sklearn.model_selection import train_test_split\n",
        "from sklearn.ensemble import IsolationForest\n",
        "from sklearn.svm import OneClassSVM\n",
        "from tensorflow.keras.models import Sequential\n",
        "from tensorflow.keras.layers import Dense\n",
        "from tensorflow.keras.optimizers import Adam\n",
        "from tensorflow.keras import regularizers\n",
        "import matplotlib.pyplot as plt\n",
        "import seaborn as sns"
      ],
      "execution_count": 1,
      "outputs": []
    },
    {
      "cell_type": "markdown",
      "metadata": {
        "id": "d100c91e"
      },
      "source": [
        "## Φόρτωση δεδομένων\n",
        "\n",
        "### Subtask:\n",
        "Δημιουργία ενός κελιού για τη φόρτωση του dataset από το παρεχόμενο URL.\n"
      ]
    },
    {
      "cell_type": "markdown",
      "metadata": {
        "id": "66d3939d"
      },
      "source": [
        "**Reasoning**:\n",
        "Define the URL and load the dataset into a pandas DataFrame, then display its shape and head.\n",
        "\n"
      ]
    },
    {
      "cell_type": "code",
      "metadata": {
        "colab": {
          "base_uri": "https://localhost:8080/"
        },
        "id": "qG-VLHIVcFo_",
        "outputId": "70416b57-9403-4316-9d37-3414bdd7364b"
      },
      "source": [
        "# 3. Φόρτωση δεδομένων\n",
        "url = \"https://raw.githubusercontent.com/kdemertzis/EKPA/main/Data/DarkNet.csv\"\n",
        "df = pd.read_csv(url)\n",
        "\n",
        "# Επισκόπηση των δεδομένων\n",
        "print(\"Σχήμα δεδομένων:\", df.shape)\n",
        "print(df.head())"
      ],
      "execution_count": 2,
      "outputs": [
        {
          "output_type": "stream",
          "name": "stdout",
          "text": [
            "Σχήμα δεδομένων: (68580, 83)\n",
            "          Src_IP  Src_Port          Dst_IP  Dst_Port  Protocol  Flow_Duration  \\\n",
            "0  10.152.152.11     57158   216.58.220.99       443         6            229   \n",
            "1  10.152.152.11     57159   216.58.220.99       443         6            407   \n",
            "2  10.152.152.11     57160   216.58.220.99       443         6            431   \n",
            "3  10.152.152.11     49134  74.125.136.120       443         6            359   \n",
            "4  10.152.152.11     34697  173.194.65.127     19305         6       10778451   \n",
            "\n",
            "   Total_Fwd_Packet  Total_Bwd_packets  Total_Length_of_Fwd_Packet  \\\n",
            "0                 1                  1                           0   \n",
            "1                 1                  1                           0   \n",
            "2                 1                  1                           0   \n",
            "3                 1                  1                           0   \n",
            "4               591                400                       64530   \n",
            "\n",
            "   Total_Length_of_Bwd_Packet  ...  Active_Mean  Active_Std  Active_Max  \\\n",
            "0                           0  ...            0           0           0   \n",
            "1                           0  ...            0           0           0   \n",
            "2                           0  ...            0           0           0   \n",
            "3                           0  ...            0           0           0   \n",
            "4                        6659  ...            0           0           0   \n",
            "\n",
            "   Active_Min         Idle_Mean     Idle_Std          Idle_Max  \\\n",
            "0           0                 0        0.000                 0   \n",
            "1           0                 0        0.000                 0   \n",
            "2           0                 0        0.000                 0   \n",
            "3           0                 0        0.000                 0   \n",
            "4           0  1437760000000000  3117718.131  1437760000000000   \n",
            "\n",
            "           Idle_Min  Label-1          Label-2  \n",
            "0                 0  Non-Tor  AUDIO-STREAMING  \n",
            "1                 0  Non-Tor  AUDIO-STREAMING  \n",
            "2                 0  Non-Tor  AUDIO-STREAMING  \n",
            "3                 0  Non-Tor  AUDIO-STREAMING  \n",
            "4  1437760000000000  Non-Tor  AUDIO-STREAMING  \n",
            "\n",
            "[5 rows x 83 columns]\n"
          ]
        },
        {
          "output_type": "stream",
          "name": "stderr",
          "text": [
            "/tmp/ipython-input-2834353520.py:3: DtypeWarning: Columns (18) have mixed types. Specify dtype option on import or set low_memory=False.\n",
            "  df = pd.read_csv(url)\n"
          ]
        }
      ]
    },
    {
      "cell_type": "markdown",
      "metadata": {
        "id": "98193412"
      },
      "source": [
        "## Προεπεξεργασία δεδομένων\n",
        "\n",
        "### Subtask:\n",
        "Δημιουργία κελιού για την επιλογή αριθμητικών στηλών, χειρισμό απείρων και πολύ μεγάλων τιμών, χειρισμό NaN τιμών και κανονικοποίηση των δεδομένων.\n"
      ]
    },
    {
      "cell_type": "markdown",
      "metadata": {
        "id": "cec13ea8"
      },
      "source": [
        "**Reasoning**:\n",
        "Select numeric columns, handle infinite and large values, drop rows with NaNs, and scale the data according to the instructions.\n",
        "\n"
      ]
    },
    {
      "cell_type": "code",
      "metadata": {
        "colab": {
          "base_uri": "https://localhost:8080/"
        },
        "id": "60ced2dd",
        "outputId": "19c862dc-83ba-4d3d-e485-a03fa703bfe4"
      },
      "source": [
        "# 4. Προεπεξεργασία δεδομένων\n",
        "# Επιλογή μόνο αριθμητικών στηλών\n",
        "df_numeric = df.select_dtypes(include=np.number).copy() # Use .copy() to avoid SettingWithCopyWarning\n",
        "\n",
        "# Check for and handle infinite values and values too large for float64\n",
        "# Replace infinities with NaN\n",
        "df_numeric.replace([np.inf, -np.inf], np.nan, inplace=True)\n",
        "\n",
        "# Define a large number threshold (e.g., based on float64 max)\n",
        "large_number_threshold = np.finfo(np.float64).max\n",
        "\n",
        "# Replace values larger than the threshold with NaN\n",
        "df_numeric.mask(df_numeric > large_number_threshold, np.nan, inplace=True)\n",
        "\n",
        "# Handle NaN values (e.g., drop rows with NaNs)\n",
        "df_numeric.dropna(inplace=True)\n",
        "\n",
        "# Κανονικοποίηση δεδομένων\n",
        "scaler = StandardScaler()\n",
        "X_scaled = scaler.fit_transform(df_numeric)\n",
        "\n",
        "print(\"Σχήμα αριθμητικών δεδομένων μετά τον καθαρισμό:\", df_numeric.shape)"
      ],
      "execution_count": 3,
      "outputs": [
        {
          "output_type": "stream",
          "name": "stdout",
          "text": [
            "Σχήμα αριθμητικών δεδομένων μετά τον καθαρισμό: (68531, 78)\n"
          ]
        }
      ]
    },
    {
      "cell_type": "code",
      "metadata": {
        "colab": {
          "base_uri": "https://localhost:8080/"
        },
        "id": "360187f3",
        "outputId": "c0b9e4d7-ff7c-4e25-f427-9237910b1528"
      },
      "source": [
        "# 5. Διάσπαση σε training και testing (80/20)\n",
        "X_train, X_test = train_test_split(X_scaled, test_size=0.2, random_state=42)\n",
        "\n",
        "print(\"Σχήμα training set:\", X_train.shape)\n",
        "print(\"Σχήμα testing set:\", X_test.shape)"
      ],
      "execution_count": 4,
      "outputs": [
        {
          "output_type": "stream",
          "name": "stdout",
          "text": [
            "Σχήμα training set: (54824, 78)\n",
            "Σχήμα testing set: (13707, 78)\n"
          ]
        }
      ]
    },
    {
      "cell_type": "markdown",
      "metadata": {
        "id": "f85101d4"
      },
      "source": [
        "## Εκπαίδευση και Πρόβλεψη Isolation Forest\n",
        "\n",
        "### Subtask:\n",
        "Δημιουργία κελιού για την εκπαίδευση του Isolation Forest μοντέλου και την παραγωγή προβλέψεων στο test set."
      ]
    },
    {
      "cell_type": "markdown",
      "metadata": {
        "id": "0130398b"
      },
      "source": [
        "**Reasoning**:\n",
        "Initialize and train an Isolation Forest model on the training data (`X_train`), then use it to predict outliers on the test data (`X_test`). The predictions will be converted to 0 for normal and 1 for outlier."
      ]
    },
    {
      "cell_type": "code",
      "metadata": {
        "colab": {
          "base_uri": "https://localhost:8080/"
        },
        "id": "af98394f",
        "outputId": "b29e8dac-a8b6-4264-dbf3-37376b093f23"
      },
      "source": [
        "# 6. Μοντέλο 1: Isolation Forest\n",
        "iso_forest = IsolationForest(contamination=0.05, random_state=42)\n",
        "iso_forest.fit(X_train)\n",
        "y_pred_if = iso_forest.predict(X_test)\n",
        "y_pred_if = np.where(y_pred_if == -1, 1, 0)  # 0=normal, 1=outlier\n",
        "\n",
        "print(\"Προβλέψεις Isolation Forest (πρώτες 10):\", y_pred_if[:10])\n",
        "print(\"Αριθμός ανιχνευμένων outliers από Isolation Forest:\", np.sum(y_pred_if))"
      ],
      "execution_count": 5,
      "outputs": [
        {
          "output_type": "stream",
          "name": "stdout",
          "text": [
            "Προβλέψεις Isolation Forest (πρώτες 10): [0 0 0 0 0 1 0 0 0 0]\n",
            "Αριθμός ανιχνευμένων outliers από Isolation Forest: 750\n"
          ]
        }
      ]
    },
    {
      "cell_type": "markdown",
      "metadata": {
        "id": "f066d349"
      },
      "source": [
        "## Εκπαίδευση και Πρόβλεψη One-Class SVM\n",
        "\n",
        "### Subtask:\n",
        "Δημιουργία κελιού για την εκπαίδευση του One-Class SVM μοντέλου και την παραγωγή προβλέψεων στο test set."
      ]
    },
    {
      "cell_type": "markdown",
      "metadata": {
        "id": "ef19cbe6"
      },
      "source": [
        "**Reasoning**:\n",
        "Initialize and train a One-Class SVM model on the training data (`X_train`), then use it to predict outliers on the test data (`X_test`). The predictions will be converted to 0 for normal and 1 for outlier."
      ]
    },
    {
      "cell_type": "code",
      "metadata": {
        "colab": {
          "base_uri": "https://localhost:8080/"
        },
        "id": "5f9950ea",
        "outputId": "f467eb32-fee6-4ab5-c312-3248f3cf7106"
      },
      "source": [
        "# 7. Μοντέλο 2: One-Class SVM\n",
        "oc_svm = OneClassSVM(nu=0.05, kernel=\"rbf\", gamma='scale')\n",
        "oc_svm.fit(X_train)\n",
        "y_pred_svm = oc_svm.predict(X_test)\n",
        "y_pred_svm = np.where(y_pred_svm == -1, 1, 0)\n",
        "\n",
        "print(\"Προβλέψεις One-Class SVM (πρώτες 10):\", y_pred_svm[:10])\n",
        "print(\"Αριθμός ανιχνευμένων outliers από One-Class SVM:\", np.sum(y_pred_svm))"
      ],
      "execution_count": 6,
      "outputs": [
        {
          "output_type": "stream",
          "name": "stdout",
          "text": [
            "Προβλέψεις One-Class SVM (πρώτες 10): [0 0 0 0 0 1 0 0 0 0]\n",
            "Αριθμός ανιχνευμένων outliers από One-Class SVM: 706\n"
          ]
        }
      ]
    },
    {
      "cell_type": "markdown",
      "metadata": {
        "id": "5d53b63b"
      },
      "source": [
        "## Εκπαίδευση και Πρόβλεψη Autoencoder\n",
        "\n",
        "### Subtask:\n",
        "Δημιουργία κελιού για τον ορισμό, την εκπαίδευση του Autoencoder μοντέλου και τον υπολογισμό του reconstruction error για το test set."
      ]
    },
    {
      "cell_type": "markdown",
      "metadata": {
        "id": "3c3edff1"
      },
      "source": [
        "**Reasoning**:\n",
        "Define a sequential Autoencoder model, compile it with an Adam optimizer and mean squared error loss, train it on the training data (`X_train`), predict the test data (`X_test`), and calculate the mean squared error between the original and reconstructed test data points as the reconstruction error. A threshold is then calculated to classify anomalies."
      ]
    },
    {
      "cell_type": "code",
      "metadata": {
        "colab": {
          "base_uri": "https://localhost:8080/"
        },
        "id": "03b54230",
        "outputId": "57c5346a-a98e-4e4c-b1a9-e7c243a78da6"
      },
      "source": [
        "# 8. Μοντέλο 3: Autoencoder\n",
        "input_dim = X_train.shape[1]\n",
        "encoding_dim = int(input_dim / 2)\n",
        "\n",
        "autoencoder = Sequential([\n",
        "    Dense(encoding_dim, activation='relu', input_shape=(input_dim,),\n",
        "          activity_regularizer=regularizers.l1(1e-5)),\n",
        "    Dense(input_dim, activation='linear')\n",
        "])\n",
        "autoencoder.compile(optimizer=Adam(learning_rate=0.001), loss='mse')\n",
        "\n",
        "# Check if X_train is empty after dropping NaNs\n",
        "if X_train.shape[0] > 0:\n",
        "    history = autoencoder.fit(X_train, X_train,\n",
        "                            epochs=50,\n",
        "                            batch_size=32,\n",
        "                            validation_split=0.1,\n",
        "                            verbose=0)\n",
        "\n",
        "    # Υπολογισμός reconstruction error για test set\n",
        "    X_test_pred = autoencoder.predict(X_test)\n",
        "    mse = np.mean(np.power(X_test - X_test_pred, 2), axis=1)\n",
        "    # Ensure threshold calculation handles potential empty mse array\n",
        "    if mse.size > 0:\n",
        "        threshold = np.percentile(mse, 95)\n",
        "        y_pred_ae = (mse > threshold).astype(int)\n",
        "    else:\n",
        "        y_pred_ae = np.array([]) # No test data to predict on\n",
        "else:\n",
        "    print(\"Warning: X_train is empty after preprocessing. Cannot train Autoencoder.\")\n",
        "    y_pred_ae = np.array([])\n",
        "\n",
        "if y_pred_ae.size > 0:\n",
        "    print(\"Προβλέψεις Autoencoder (πρώτες 10):\", y_pred_ae[:10])\n",
        "    print(\"Αριθμός ανιχνευμένων outliers από Autoencoder:\", np.sum(y_pred_ae))\n",
        "else:\n",
        "    print(\"Δεν υπάρχουν προβλέψεις Autoencoder.\")"
      ],
      "execution_count": 7,
      "outputs": [
        {
          "metadata": {
            "tags": null
          },
          "name": "stderr",
          "output_type": "stream",
          "text": [
            "/usr/local/lib/python3.12/dist-packages/keras/src/layers/core/dense.py:93: UserWarning: Do not pass an `input_shape`/`input_dim` argument to a layer. When using Sequential models, prefer using an `Input(shape)` object as the first layer in the model instead.\n",
            "  super().__init__(activity_regularizer=activity_regularizer, **kwargs)\n"
          ]
        },
        {
          "output_type": "stream",
          "name": "stdout",
          "text": [
            "\u001b[1m429/429\u001b[0m \u001b[32m━━━━━━━━━━━━━━━━━━━━\u001b[0m\u001b[37m\u001b[0m \u001b[1m1s\u001b[0m 1ms/step\n",
            "Προβλέψεις Autoencoder (πρώτες 10): [0 0 0 0 0 0 0 0 0 0]\n",
            "Αριθμός ανιχνευμένων outliers από Autoencoder: 686\n"
          ]
        }
      ]
    },
    {
      "cell_type": "markdown",
      "metadata": {
        "id": "d9bf2572"
      },
      "source": [
        "## Αξιολόγηση Μοντέλων\n",
        "\n",
        "### Subtask:\n",
        "Δημιουργία κελιού για την αξιολόγηση των μοντέλων με βάση τον αριθμό των ανιχνευμένων outliers."
      ]
    },
    {
      "cell_type": "markdown",
      "metadata": {
        "id": "a00fff4a"
      },
      "source": [
        "**Reasoning**:\n",
        "Compare the number of outliers detected by each model (Isolation Forest, One-Class SVM, and Autoencoder) to evaluate their performance based on this metric."
      ]
    },
    {
      "cell_type": "code",
      "metadata": {
        "colab": {
          "base_uri": "https://localhost:8080/"
        },
        "id": "11a6cf63",
        "outputId": "b1931fa1-8870-475b-8399-2c2acbe17ee8"
      },
      "source": [
        "# 9. Αξιολόγηση μοντέλων (πλήρως Tor dataset -> μετράμε outliers)\n",
        "print(\"Outliers (ψευδώς ανιχνευμένα) ανά μοντέλο:\")\n",
        "print(\"Isolation Forest:\", np.sum(y_pred_if) if y_pred_if.size > 0 else \"N/A (No test data)\")\n",
        "print(\"One-Class SVM:\", np.sum(y_pred_svm) if y_pred_svm.size > 0 else \"N/A (No test data)\")\n",
        "print(\"Autoencoder:\", np.sum(y_pred_ae) if y_pred_ae.size > 0 else \"N/A (No test data)\")"
      ],
      "execution_count": 8,
      "outputs": [
        {
          "output_type": "stream",
          "name": "stdout",
          "text": [
            "Outliers (ψευδώς ανιχνευμένα) ανά μοντέλο:\n",
            "Isolation Forest: 750\n",
            "One-Class SVM: 706\n",
            "Autoencoder: 686\n"
          ]
        }
      ]
    },
    {
      "cell_type": "markdown",
      "metadata": {
        "id": "3b4f5119"
      },
      "source": [
        "## Οπτικοποίηση Αποτελεσμάτων Autoencoder\n",
        "\n",
        "### Subtask:\n",
        "Δημιουργία κελιού για την οπτικοποίηση της κατανομής του reconstruction error του Autoencoder."
      ]
    },
    {
      "cell_type": "markdown",
      "metadata": {
        "id": "7f9b6e07"
      },
      "source": [
        "**Reasoning**:\n",
        "Generate a histogram of the Mean Squared Error (MSE) calculated from the Autoencoder's reconstruction of the test data. A vertical line will indicate the threshold used to classify anomalies. This visualization helps understand the distribution of reconstruction errors and the chosen threshold's position."
      ]
    },
    {
      "cell_type": "code",
      "metadata": {
        "colab": {
          "base_uri": "https://localhost:8080/",
          "height": 487
        },
        "id": "5ed5ec16",
        "outputId": "f85b41d2-ac29-46e3-925d-731aa2d53033"
      },
      "source": [
        "# 10. Οπτικοποίηση reconstruction errors Autoencoder\n",
        "# Only plot if there is reconstruction error data\n",
        "if 'mse' in locals() and mse.size > 0:\n",
        "    plt.figure(figsize=(8,5))\n",
        "    plt.hist(mse, bins=50, color='skyblue', edgecolor='k')\n",
        "    plt.axvline(threshold, color='r', linestyle='--', label='Threshold (95th percentile)')\n",
        "    plt.title(\"Autoencoder Reconstruction Error Distribution\")\n",
        "    plt.xlabel(\"MSE\")\n",
        "    plt.ylabel(\"Count\")\n",
        "    plt.legend()\n",
        "    plt.show()\n",
        "else:\n",
        "    print(\"No Autoencoder reconstruction error data to plot.\")"
      ],
      "execution_count": 9,
      "outputs": [
        {
          "output_type": "display_data",
          "data": {
            "text/plain": [
              "<Figure size 800x500 with 1 Axes>"
            ],
            "image/png": "[encoded data removed]"
          },
          "metadata": {}
        }
      ]
    },
    {
      "cell_type": "markdown",
      "metadata": {
        "id": "82fb59d3"
      },
      "source": [
        "## Επιλογή Καλύτερου Μοντέλου\n",
        "\n",
        "### Subtask:\n",
        "Δημιουργία κελιού για την επιλογή του καλύτερου μοντέλου με βάση τα αποτελέσματα της αξιολόγησης."
      ]
    },
    {
      "cell_type": "markdown",
      "metadata": {
        "id": "1e7fbf7a"
      },
      "source": [
        "**Reasoning**:\n",
        "Identify and print the name of the model that detected the fewest outliers, based on the counts calculated in the evaluation step."
      ]
    },
    {
      "cell_type": "code",
      "metadata": {
        "colab": {
          "base_uri": "https://localhost:8080/"
        },
        "id": "cc57dc71",
        "outputId": "02e41909-9002-48ce-ee5a-80e35a31ad3e"
      },
      "source": [
        "# 11. Επιλογή καλύτερου μοντέλου (λιγότερα false positives)\n",
        "outliers_count = {}\n",
        "if y_pred_if.size > 0:\n",
        "    outliers_count[\"Isolation Forest\"] = np.sum(y_pred_if)\n",
        "if y_pred_svm.size > 0:\n",
        "    outliers_count[\"One-Class SVM\"] = np.sum(y_pred_svm)\n",
        "if y_pred_ae.size > 0:\n",
        "     outliers_count[\"Autoencoder\"] = np.sum(y_pred_ae)\n",
        "\n",
        "if outliers_count:\n",
        "    best_model = min(outliers_count, key=outliers_count.get)\n",
        "    print(\"Καλύτερο μοντέλο:\", best_model)\n",
        "else:\n",
        "    print(\"Could not determine the best model as no predictions were made.\")"
      ],
      "execution_count": 10,
      "outputs": [
        {
          "output_type": "stream",
          "name": "stdout",
          "text": [
            "Καλύτερο μοντέλο: Autoencoder\n"
          ]
        }
      ]
    },
    {
      "cell_type": "markdown",
      "source": [
        "12. Προσομοίωση συνεχούς παρακολούθησης και ανίχνευσης απειλών\n",
        "\n",
        "Subtask:\n",
        "Χωρίζουμε το dataset σε μικρά τμήματα (mini-batches) και τρέχουμε το Autoencoder για να εντοπίσουμε υποπτη δραστηριότητα. Κάθε batch αντιπροσωπεύει “νέα δεδομένα”"
      ],
      "metadata": {
        "id": "bQeKEoFpphRO"
      }
    },
    {
      "cell_type": "markdown",
      "source": [
        "Reasoning:\n",
        "Αν και δεν έχουμε live traffic, μπορούμε να προσομοιώσουμε streaming δεδομένα για να δούμε πώς το ευφυές σύστημα ανιχνεύει anomalies και ενημερώνει για πιθανές απειλές."
      ],
      "metadata": {
        "id": "5quGPyXIpwMr"
      }
    },
    {
      "cell_type": "code",
      "source": [
        "# 12. Simulated Streaming / Online Detection\n",
        "batch_size = 2000  # Μέγεθος κάθε mini-batch\n",
        "n_batches = int(X_test.shape[0] / batch_size) + 1\n",
        "\n",
        "# Δημιουργία log για alerts\n",
        "threat_log = []\n",
        "\n",
        "for i in range(n_batches):\n",
        "    start = i * batch_size\n",
        "    end = min((i+1) * batch_size, X_test.shape[0])\n",
        "    batch = X_test[start:end]\n",
        "\n",
        "    if batch.size == 0:\n",
        "        continue\n",
        "\n",
        "    # Πρόβλεψη reconstruction error\n",
        "    batch_pred = autoencoder.predict(batch)\n",
        "    batch_mse = np.mean(np.power(batch - batch_pred, 2), axis=1)\n",
        "\n",
        "    # Ανίχνευση anomalies\n",
        "    batch_outliers = (batch_mse > threshold).astype(int)\n",
        "\n",
        "    # Ενημέρωση threat log\n",
        "    for idx, val in enumerate(batch_outliers):\n",
        "        if val == 1:\n",
        "            threat_log.append({\n",
        "                \"batch\": i+1,\n",
        "                \"index_in_batch\": idx,\n",
        "                \"mse\": batch_mse[idx],\n",
        "                \"alert\": \"Potential threat detected\"\n",
        "            })\n",
        "\n",
        "    # Προαιρετικά: online update (προσθήκη κανονικών Tor δειγμάτων στο training set)\n",
        "    normal_indices = np.where(batch_outliers == 0)[0]\n",
        "    X_train = np.vstack([X_train, batch[normal_indices]])\n",
        "    autoencoder.fit(X_train, X_train, epochs=5, batch_size=32, verbose=0)\n"
      ],
      "metadata": {
        "colab": {
          "base_uri": "https://localhost:8080/"
        },
        "id": "8P9naSNWp22n",
        "outputId": "3c3d96fe-bfc0-40dc-d142-4d0beec76ac7"
      },
      "execution_count": 11,
      "outputs": [
        {
          "output_type": "stream",
          "name": "stdout",
          "text": [
            "\u001b[1m63/63\u001b[0m \u001b[32m━━━━━━━━━━━━━━━━━━━━\u001b[0m\u001b[37m\u001b[0m \u001b[1m0s\u001b[0m 1ms/step\n",
            "\u001b[1m63/63\u001b[0m \u001b[32m━━━━━━━━━━━━━━━━━━━━\u001b[0m\u001b[37m\u001b[0m \u001b[1m0s\u001b[0m 1ms/step\n",
            "\u001b[1m63/63\u001b[0m \u001b[32m━━━━━━━━━━━━━━━━━━━━\u001b[0m\u001b[37m\u001b[0m \u001b[1m0s\u001b[0m 1ms/step\n",
            "\u001b[1m63/63\u001b[0m \u001b[32m━━━━━━━━━━━━━━━━━━━━\u001b[0m\u001b[37m\u001b[0m \u001b[1m0s\u001b[0m 1ms/step\n",
            "\u001b[1m63/63\u001b[0m \u001b[32m━━━━━━━━━━━━━━━━━━━━\u001b[0m\u001b[37m\u001b[0m \u001b[1m0s\u001b[0m 1ms/step\n",
            "\u001b[1m63/63\u001b[0m \u001b[32m━━━━━━━━━━━━━━━━━━━━\u001b[0m\u001b[37m\u001b[0m \u001b[1m0s\u001b[0m 1ms/step\n",
            "\u001b[1m54/54\u001b[0m \u001b[32m━━━━━━━━━━━━━━━━━━━━\u001b[0m\u001b[37m\u001b[0m \u001b[1m0s\u001b[0m 1ms/step\n"
          ]
        }
      ]
    },
    {
      "cell_type": "markdown",
      "source": [
        "13. Επισκόπηση ανιχνευμένων απειλών\n",
        "\n",
        "Subtask:\n",
        "Δημιουργούμε σύνοψη του threat log για να δούμε ποιες ροές χαρακτηρίστηκαν ως υποπτες."
      ],
      "metadata": {
        "id": "f0LyGLtKq6uA"
      }
    },
    {
      "cell_type": "markdown",
      "source": [
        "Reasoning:\n",
        "Αυτό προσομοιώνει πώς ένα SIEM ή IPS θα λάμβανε ενημερώσεις για πιθανές απειλές."
      ],
      "metadata": {
        "id": "7dG-yWoyq8S2"
      }
    },
    {
      "cell_type": "code",
      "source": [
        "# 13. Threat Log Summary\n",
        "print(f\"Συνολικός αριθμός ανιχνευμένων υποπτων ροών: {len(threat_log)}\")\n",
        "\n",
        "# Προβολή πρώτων 5 alerts\n",
        "for alert in threat_log[:5]:\n",
        "    print(alert)\n"
      ],
      "metadata": {
        "colab": {
          "base_uri": "https://localhost:8080/"
        },
        "id": "NAsoWqmYrAA6",
        "outputId": "8de3afa2-9a3c-4d66-e5c6-5ed1d3c4ec01"
      },
      "execution_count": 12,
      "outputs": [
        {
          "output_type": "stream",
          "name": "stdout",
          "text": [
            "Συνολικός αριθμός ανιχνευμένων υποπτων ροών: 461\n",
            "{'batch': 1, 'index_in_batch': 13, 'mse': np.float64(0.040980399316831145), 'alert': 'Potential threat detected'}\n",
            "{'batch': 1, 'index_in_batch': 16, 'mse': np.float64(0.07197909473242035), 'alert': 'Potential threat detected'}\n",
            "{'batch': 1, 'index_in_batch': 27, 'mse': np.float64(0.04400100647552481), 'alert': 'Potential threat detected'}\n",
            "{'batch': 1, 'index_in_batch': 29, 'mse': np.float64(0.04541584906050017), 'alert': 'Potential threat detected'}\n",
            "{'batch': 1, 'index_in_batch': 37, 'mse': np.float64(0.06735545323349272), 'alert': 'Potential threat detected'}\n"
          ]
        }
      ]
    },
    {
      "cell_type": "markdown",
      "source": [
        "14. Οπτικοποίηση MSE νέων batches\n",
        "\n",
        "Subtask:\n",
        "Οπτικοποιούμε το reconstruction error των νέων batches για να δούμε την κατανομή των anomalies."
      ],
      "metadata": {
        "id": "gQEFS00trs7T"
      }
    },
    {
      "cell_type": "markdown",
      "source": [
        "Reasoning:\n",
        "Η γραφική απεικόνιση βοηθάει στην κατανόηση του πώς το μοντέλο αντιλαμβάνεται νέα δεδομένα και πόσο “ακραία” θεωρεί τις υποπτες ροές."
      ],
      "metadata": {
        "id": "DyoizLKqrt4N"
      }
    },
    {
      "cell_type": "code",
      "source": [
        "# 14. Visualize reconstruction error of last batch\n",
        "plt.figure(figsize=(8,5))\n",
        "plt.hist(batch_mse, bins=50, color='orange', edgecolor='k')\n",
        "plt.axvline(threshold, color='r', linestyle='--', label='Threshold (95th percentile)')\n",
        "plt.title(\"Reconstruction Error Distribution - Last Batch\")\n",
        "plt.xlabel(\"MSE\")\n",
        "plt.ylabel(\"Count\")\n",
        "plt.legend()\n",
        "plt.show()\n"
      ],
      "metadata": {
        "colab": {
          "base_uri": "https://localhost:8080/",
          "height": 487
        },
        "id": "-mnjuG-orw7Y",
        "outputId": "9039b20b-7d65-4942-9d12-b29106b32094"
      },
      "execution_count": 13,
      "outputs": [
        {
          "output_type": "display_data",
          "data": {
            "text/plain": [
              "<Figure size 800x500 with 1 Axes>"
            ],
            "image/png": "[encoded data removed]"
          },
          "metadata": {}
        }
      ]
    },
    {
      "cell_type": "markdown",
      "source": [
        "15. Τελική Αναφορά & Κλείσιμο\n",
        "\n",
        "Subtask:\n",
        "Εκτυπώνουμε συνοπτικά αποτελέσματα της παρακολούθησης και εμφανίζουμε ένα μήνυμα ολοκλήρωσης της διαδικασίας."
      ],
      "metadata": {
        "id": "eDY2jEktw1-x"
      }
    },
    {
      "cell_type": "markdown",
      "source": [
        "Reasoning:\n",
        "Κλείνει το σενάριο με ένα καθαρό και φιλικό μήνυμα, δείχνοντας τα αποτελέσματα της ανίχνευσης και ότι η διαδικασία ολοκληρώθηκε επιτυχώς."
      ],
      "metadata": {
        "id": "t2iCHBkvw3Bm"
      }
    },
    {
      "cell_type": "code",
      "source": [
        "# 15. Final Summary & Closure\n",
        "\n",
        "total_batches = n_batches\n",
        "total_alerts = len(threat_log)\n",
        "\n",
        "print(\"\\n\" + \"=\"*60)\n",
        "print(\"ΣΥΝΟΨΗ ΕΥΦΥΟΥΣ ΣΥΣΤΗΜΑΤΟΣ ΑΝΙΧΝΕΥΣΗΣ TOR TRAFFIC\")\n",
        "print(\"=\"*60)\n",
        "print(f\"Συνολικός αριθμός batches που επεξεργάστηκαν: {total_batches}\")\n",
        "print(f\"Συνολικός αριθμός ανιχνευμένων υποπτων ροών: {total_alerts}\")\n",
        "print(f\"Καλύτερο μοντέλο που χρησιμοποιήθηκε: {best_model}\")\n",
        "print(\"\\nΗ διαδικασία ολοκληρώθηκε με επιτυχία. Όλα τα alerts καταγράφηκαν στο threat log.\")\n",
        "print(\"Το σύστημα είναι έτοιμο για συνεχή παρακολούθηση και ανανέωση του μοντέλου.\")\n",
        "print(\"=\"*60)\n"
      ],
      "metadata": {
        "id": "OzGLdJzcw-dl",
        "outputId": "46f79f18-1fc6-430a-8b82-03301d73ebc3",
        "colab": {
          "base_uri": "https://localhost:8080/"
        }
      },
      "execution_count": 14,
      "outputs": [
        {
          "output_type": "stream",
          "name": "stdout",
          "text": [
            "\n",
            "============================================================\n",
            "ΣΥΝΟΨΗ ΕΥΦΥΟΥΣ ΣΥΣΤΗΜΑΤΟΣ ΑΝΙΧΝΕΥΣΗΣ TOR TRAFFIC\n",
            "============================================================\n",
            "Συνολικός αριθμός batches που επεξεργάστηκαν: 7\n",
            "Συνολικός αριθμός ανιχνευμένων υποπτων ροών: 461\n",
            "Καλύτερο μοντέλο που χρησιμοποιήθηκε: Autoencoder\n",
            "\n",
            "Η διαδικασία ολοκληρώθηκε με επιτυχία. Όλα τα alerts καταγράφηκαν στο threat log.\n",
            "Το σύστημα είναι έτοιμο για συνεχή παρακολούθηση και ανανέωση του μοντέλου.\n",
            "============================================================\n"
          ]
        }
      ]
    }
  ]
}